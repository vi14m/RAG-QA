{
  "nbformat": 4,
  "nbformat_minor": 0,
  "metadata": {
    "colab": {
      "provenance": [],
      "gpuType": "T4",
      "authorship_tag": "ABX9TyOrBs9sR71nGaFNPTLCb2PS",
      "include_colab_link": true
    },
    "kernelspec": {
      "name": "python3",
      "display_name": "Python 3"
    },
    "language_info": {
      "name": "python"
    },
    "accelerator": "GPU"
  },
  "cells": [
    {
      "cell_type": "markdown",
      "metadata": {
        "id": "view-in-github",
        "colab_type": "text"
      },
      "source": [
        "<a href=\"https://colab.research.google.com/github/vi14m/RAG-QA/blob/main/RAG_QA.ipynb\" target=\"_parent\"><img src=\"https://colab.research.google.com/assets/colab-badge.svg\" alt=\"Open In Colab\"/></a>"
      ]
    },
    {
      "cell_type": "markdown",
      "source": [
        "# 📄 Local RAG PDF Chatbot with LangChain, HuggingFace, and Gradio\n",
        "\n",
        "This notebook demonstrates how to build a fully local Retrieval-Augmented Generation (RAG) chatbot for querying your own PDF documents. It leverages LangChain, HuggingFace Transformers, FAISS for vector search, and Gradio for a user-friendly chat interface.\n",
        "\n",
        "---\n",
        "\n",
        "## **Workflow Overview**\n",
        "\n",
        "1. **Install Required Libraries**  \n",
        "    Install all necessary Python packages for document loading, embedding, vector storage, and the chat interface.\n",
        "\n",
        "2. **Upload PDF Documents**  \n",
        "    Upload your PDF files, which will be used as the knowledge base for the chatbot.\n",
        "\n",
        "3. **Load and Process Documents**  \n",
        "    - Load PDFs from the uploaded files.\n",
        "    - Split documents into manageable text chunks.\n",
        "    - Filter out empty or invalid chunks.\n",
        "\n",
        "4. **Create Embeddings and Vector Store**  \n",
        "    - Generate embeddings for each document chunk using a HuggingFace model.\n",
        "    - Store embeddings in a FAISS vector database for efficient retrieval.\n",
        "\n",
        "5. **Set Up Conversational RAG Chain**  \n",
        "    - Initialize a lightweight HuggingFace language model for answer generation.\n",
        "    - Set up a conversational retrieval chain using LangChain.\n",
        "\n",
        "6. **Define Chatbot Logic**  \n",
        "    - Implement a function to handle user queries, maintain chat history, and interact with the RAG chain.\n",
        "\n",
        "7. **Launch Gradio Chat Interface**  \n",
        "    - Provide a simple web-based chat interface for users to interact with the PDF chatbot.\n",
        "\n",
        "8. **Automated Q&A and Export**  \n",
        "    - Run a set of sample questions through the chatbot.\n",
        "    - Save the resulting Q&A pairs to an Excel file for further analysis.\n",
        "\n",
        "---\n",
        "\n",
        "## **Cell-by-Cell Description**\n",
        "\n",
        "### 1. Install Dependencies\n",
        "Install all required libraries for document processing, embeddings, vector storage, and the chat interface.\n",
        "\n",
        "### 2. Upload PDFs\n",
        "Use Google Colab's file upload utility to upload your PDF documents. Move them to a dedicated `data` directory.\n",
        "\n",
        "### 3. Install FAISS\n",
        "Install the FAISS library for efficient vector similarity search.\n",
        "\n",
        "### 4. Load and Process Documents\n",
        "- Load all PDFs from the `data` directory.\n",
        "- Split documents into overlapping text chunks.\n",
        "- Filter out empty chunks.\n",
        "- Generate embeddings using a HuggingFace model.\n",
        "- Store embeddings in a FAISS vector store.\n",
        "\n",
        "### 5. Set Up RAG Chain\n",
        "- Initialize a lightweight HuggingFace language model.\n",
        "- Create a retriever from the FAISS vector store.\n",
        "- Set up a conversational retrieval chain using LangChain.\n",
        "\n",
        "### 6. Define Chatbot Logic\n",
        "- Implement a function to process user queries, maintain chat history, and interact with the RAG chain.\n",
        "- Handle greetings and short queries gracefully.\n",
        "\n",
        "### 7. Launch Gradio Interface\n",
        "- Wrap the chatbot logic in a Gradio interface for interactive chatting.\n",
        "\n",
        "### 8. Define Sample Questions\n",
        "List a set of example questions to automatically query the chatbot.\n",
        "\n",
        "### 9. Automated Q&A and Export\n",
        "- Run the sample questions through the chatbot.\n",
        "- Save the resulting Q&A pairs to an Excel file.\n",
        "\n",
        "---\n",
        "\n",
        "## **Usage**\n",
        "\n",
        "1. **Run each cell in order.**\n",
        "2. **Upload your PDF documents when prompted.**\n",
        "3. **Interact with the chatbot via the Gradio interface.**\n",
        "4. **Review and export Q&A results as needed.**\n",
        "\n",
        "---\n",
        "\n",
        "**This notebook provides a fully local, privacy-preserving solution for querying your own documents using state-of-the-art NLP techniques.**"
      ],
      "metadata": {
        "id": "1aW1vOuLvSle"
      }
    },
    {
      "cell_type": "code",
      "source": [
        "!pip install -q \\\n",
        "    langchain-core langchain-community langchain-chroma \\\n",
        "    langchain-text-splitters sentence-transformers \\\n",
        "    transformers accelerate chromadb pypdf gradio\n"
      ],
      "metadata": {
        "id": "u3eANMPTyGE9"
      },
      "execution_count": null,
      "outputs": []
    },
    {
      "cell_type": "code",
      "source": [
        "from google.colab import files\n",
        "uploaded = files.upload()\n",
        "\n",
        "import os\n",
        "os.makedirs(\"data\", exist_ok=True)\n",
        "for fname in uploaded.keys():\n",
        "    os.rename(fname, f\"data/{fname}\")\n"
      ],
      "metadata": {
        "id": "U-tETBNVz7aN"
      },
      "execution_count": null,
      "outputs": []
    },
    {
      "cell_type": "code",
      "source": [
        "!pip install faiss-cpu"
      ],
      "metadata": {
        "id": "7h9yrPiCgtJE"
      },
      "execution_count": null,
      "outputs": []
    },
    {
      "cell_type": "code",
      "source": [
        "import os\n",
        "import shutil\n",
        "from uuid import uuid4\n",
        "\n",
        "from langchain_community.document_loaders import PyPDFDirectoryLoader\n",
        "from langchain_text_splitters import RecursiveCharacterTextSplitter\n",
        "from langchain.docstore.document import Document\n",
        "from langchain.embeddings import HuggingFaceEmbeddings\n",
        "from langchain.vectorstores import FAISS  # FAISS instead of Chroma\n",
        "from langchain_community.llms import HuggingFacePipeline\n",
        "from langchain.chains import ConversationalRetrievalChain\n",
        "\n",
        "from transformers import pipeline\n",
        "\n",
        "# Set paths\n",
        "DATA_PATH = \"/content/data\"\n",
        "FAISS_INDEX_PATH = \"/content/faiss_index\"\n",
        "\n",
        "# Clean up FAISS index directory\n",
        "if os.path.exists(FAISS_INDEX_PATH):\n",
        "    shutil.rmtree(FAISS_INDEX_PATH)\n",
        "os.makedirs(DATA_PATH, exist_ok=True)\n",
        "\n",
        "# Load PDFs\n",
        "loader = PyPDFDirectoryLoader(DATA_PATH)\n",
        "raw_documents = loader.load()\n",
        "\n",
        "# Split into chunks\n",
        "splitter = RecursiveCharacterTextSplitter(chunk_size=700, chunk_overlap=150)\n",
        "chunks = splitter.split_documents(raw_documents)\n",
        "\n",
        "# Filter valid chunks\n",
        "valid_chunks = [chunk for chunk in chunks if chunk.page_content.strip()]\n",
        "\n",
        "# Embedding model\n",
        "embedding = HuggingFaceEmbeddings(model_name=\"hkunlp/instructor-xl\")\n",
        "\n",
        "# FAISS vector store\n",
        "vector_store = FAISS.from_documents(valid_chunks, embedding)\n",
        "\n",
        "vector_store.save_local(FAISS_INDEX_PATH)"
      ],
      "metadata": {
        "id": "M5TYuCl2gM5Z"
      },
      "execution_count": null,
      "outputs": []
    },
    {
      "cell_type": "code",
      "source": [
        "from transformers import pipeline\n",
        "from langchain_community.llms import HuggingFacePipeline\n",
        "from langchain.chains import ConversationalRetrievalChain\n",
        "\n",
        "# Lightweight model for RAG pipeline\n",
        "# We can use OpenAI models, but they are not free\n",
        "hf_pipe = pipeline(\n",
        "    \"text2text-generation\",\n",
        "    model=\"google/flan-t5-base\",\n",
        "    max_length=2048,\n",
        "    temperature=0.7\n",
        ")\n",
        "\n",
        "llm = HuggingFacePipeline(pipeline=hf_pipe)\n",
        "\n",
        "retriever = vector_store.as_retriever(search_kwargs={\"k\": 5})\n",
        "\n",
        "chat_chain = ConversationalRetrievalChain.from_llm(\n",
        "    llm=llm,\n",
        "    retriever=retriever,\n",
        "    return_source_documents=True\n",
        ")\n"
      ],
      "metadata": {
        "id": "LnvEV2wak1Xj"
      },
      "execution_count": null,
      "outputs": []
    },
    {
      "cell_type": "code",
      "source": [
        "# Initialize chat history as a list of tuples (question, answer)\n",
        "chat_history = []\n",
        "\n",
        "def ask_rag_bot(query: str) -> str:\n",
        "    \"\"\"\n",
        "    Process a user query using the conversational RAG chain and maintain history.\n",
        "    \"\"\"\n",
        "\n",
        "    query = query.strip()\n",
        "    if not query:\n",
        "        return \"❓ Please enter a valid question.\"\n",
        "\n",
        "    # Handle basic greetings\n",
        "    greetings = [\"hi\", \"hello\", \"hey\"]\n",
        "    if query.lower() in greetings:\n",
        "        return \"👋 Hi there! I’m your PDF assistant. Ask me anything based on the uploaded documents.\"\n",
        "\n",
        "    if len(query.split()) < 3:\n",
        "        return \"🧐 Can you please provide more context in your question?\"\n",
        "\n",
        "    try:\n",
        "        # Run the RAG pipeline\n",
        "        result = chat_chain({\n",
        "            \"question\": query,\n",
        "            \"chat_history\": chat_history\n",
        "        })\n",
        "\n",
        "        answer = result.get(\"answer\", \"\").strip()\n",
        "\n",
        "        if not answer:\n",
        "            return \"🤔 I couldn't find an answer based on the documents.\"\n",
        "\n",
        "        # Add to history only if valid\n",
        "        chat_history.append((query, answer))\n",
        "\n",
        "        return answer\n",
        "\n",
        "    except Exception as e:\n",
        "        return f\"⚠️ An error occurred: {str(e)}\"\n"
      ],
      "metadata": {
        "id": "XJqQ3lDs55N6"
      },
      "execution_count": null,
      "outputs": []
    },
    {
      "cell_type": "code",
      "source": [
        "import gradio as gr\n",
        "\n",
        "# Define Gradio-friendly wrapper\n",
        "def gradio_chat_interface(message, history):\n",
        "    try:\n",
        "        response = ask_rag_bot(message)\n",
        "        return response\n",
        "    except Exception as e:\n",
        "        return f\"⚠️ Error: {str(e)}\"\n",
        "\n",
        "# Launch interface\n",
        "gr.ChatInterface(\n",
        "    fn=gradio_chat_interface,\n",
        "    title=\"📄 Document Chatbot (Free HuggingFace RAG)\",\n",
        "    description=\"Ask questions about your uploaded PDFs using a fully local RAG system.\",\n",
        "    textbox=gr.Textbox(placeholder=\"Ask something about your document...\"),\n",
        ").launch()\n"
      ],
      "metadata": {
        "id": "8sNclNaRzu6P"
      },
      "execution_count": null,
      "outputs": []
    },
    {
      "cell_type": "code",
      "source": [
        "questions = [\n",
        "    \"What type of projects we worked on?\",\n",
        "    \"Which college he attended?\",\n",
        "    \"What B.Tech degree he is doing?\",\n",
        "    \"What skills does he have?\",\n",
        "    \"Which coding languages does he know?\"\n",
        "]\n"
      ],
      "metadata": {
        "id": "S5FxKwRroik2"
      },
      "execution_count": null,
      "outputs": []
    },
    {
      "cell_type": "code",
      "source": [
        "import pandas as pd\n",
        "\n",
        "chat_history = []\n",
        "qa_pairs = []\n",
        "\n",
        "for q in questions:\n",
        "    result = chat_chain({\"question\": q, \"chat_history\": chat_history})\n",
        "    answer = result[\"answer\"]\n",
        "    qa_pairs.append((q, answer))\n",
        "    chat_history.append((q, answer))\n",
        "\n",
        "# Save to Excel\n",
        "df = pd.DataFrame(qa_pairs, columns=[\"Question\", \"Answer\"])\n",
        "df.to_excel(\"RAG_QA_Output.xlsx\", index=False)\n",
        "print(\"✅ Saved to RAG_QA_Output.xlsx\")\n"
      ],
      "metadata": {
        "id": "SCp74EQX33wO"
      },
      "execution_count": null,
      "outputs": []
    },
    {
      "cell_type": "code",
      "source": [],
      "metadata": {
        "id": "Yo0riLFrouAx"
      },
      "execution_count": null,
      "outputs": []
    }
  ]
}